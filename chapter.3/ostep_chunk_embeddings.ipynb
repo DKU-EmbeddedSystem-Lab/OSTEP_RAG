{
 "cells": [
  {
   "cell_type": "markdown",
   "id": "a05e3653",
   "metadata": {},
   "source": [
    "\n",
    "# Chapter 3: OSTEP 청크 임베딩 생성\n",
    "\n",
    "chapter.2에서 생성된 OSTEP 청크를 임베딩으로 변환해 벡터 검색 준비를 합니다.\n",
    "\n",
    "## 📚 학습 목표\n",
    "- 청크 JSON을 임베딩 입력 텍스트로 안전히 변환(JSON 문자열화 전략)\n",
    "- SentenceTransformer로 고속 임베딩 생성 및 정규화 벡터 이해\n",
    "- 파일 저장/형식(NumPy NPY)과 이후 검색 인덱스 연계를 위한 산출물 관리\n",
    "\n",
    "## 📋 실습 구성\n",
    "- 1️⃣ 환경 설정: 패키지 설치/디바이스 확인/경로 설정\n",
    "- 2️⃣ 데이터 로드: 청크 JSON 로드 및 샘플 구조 확인\n",
    "- 3️⃣ 임베딩 생성: 정규화 포함 일괄 임베딩\n",
    "- 4️⃣ 결과 저장: `.npy`로 저장, 크기/형식 확인\n",
    "\n",
    "> ⚠️ 임베딩 생성 시 메모리 사용량에 유의하세요(GPU/CPU 환경 차이 존재)."
   ]
  },
  {
   "cell_type": "markdown",
   "id": "0c295d7e",
   "metadata": {},
   "source": [
    "---\n",
    "## 1️⃣ Google Colab 환경 설정\n",
    "\n",
    "이 노트북은 **Google Colab에서 GPU를 사용**하여 실행하도록 설계되었습니다.\n",
    "\n",
    "### 📌 실행 전 준비사항\n",
    "1. **런타임 유형 설정**: 메뉴에서 `런타임` → `런타임 유형 변경` → `GPU` 선택\n",
    "2. **첫 번째 코드 셀 실행**: Google Drive 마운트 및 필수 패키지 자동 설치\n",
    "\n",
    "> ⚠️ **중요**: GPU를 사용하면 임베딩 생성 속도가 대폭 향상됩니다.\n"
   ]
  },
  {
   "cell_type": "code",
   "execution_count": 1,
   "id": "29f2eb55",
   "metadata": {},
   "outputs": [
    {
     "name": "stdout",
     "output_type": "stream",
     "text": [
      "Model: sentence-transformers/all-MiniLM-L6-v2\n",
      "Device: cpu\n",
      "Model loaded successfully!\n"
     ]
    }
   ],
   "source": [
    "# ========================================\n",
    "# Google Colab 환경 설정\n",
    "# ========================================\n",
    "from google.colab import drive\n",
    "import os\n",
    "import warnings\n",
    "\n",
    "# Google Drive 마운트\n",
    "drive.mount('/content/drive')\n",
    "\n",
    "# 필요 패키지 설치\n",
    "!pip -q install sentence-transformers torch numpy\n",
    "\n",
    "# 경고 억제\n",
    "warnings.filterwarnings('ignore')\n",
    "\n",
    "# 라이브러리 임포트\n",
    "from sentence_transformers import SentenceTransformer\n",
    "import torch\n",
    "import numpy as np\n",
    "import json\n",
    "from pathlib import Path\n",
    "\n",
    "# GPU 자동 감지\n",
    "DEVICE = \"cuda\" if torch.cuda.is_available() else \"cpu\"\n",
    "print(f\"🔧 Using device: {DEVICE}\")\n",
    "if DEVICE == \"cuda\":\n",
    "    print(f\"   GPU: {torch.cuda.get_device_name(0)}\")\n",
    "\n",
    "# 경로 설정\n",
    "BASE_DIR = \"/content/drive/MyDrive/ostep_rag\"\n",
    "DATA_DIR = os.path.join(BASE_DIR, \"data\")\n",
    "CHUNK_FILE = os.path.join(DATA_DIR, \"chunk\", \"ostep_tok400_ov20.json\")\n",
    "OUTPUT_DIR = os.path.join(DATA_DIR, \"vector\")\n",
    "os.makedirs(OUTPUT_DIR, exist_ok=True)\n",
    "\n",
    "# 모델 설정\n",
    "MODEL_NAME = \"sentence-transformers/all-MiniLM-L6-v2\"\n",
    "EMBEDDING_DIM = 384\n",
    "\n",
    "# 모델 로드\n",
    "print(f\"\\nModel: {MODEL_NAME}\")\n",
    "model = SentenceTransformer(MODEL_NAME, device=DEVICE)\n",
    "print(\"✅ Model loaded successfully!\")\n"
   ]
  },
  {
   "cell_type": "markdown",
   "id": "bd1331b1",
   "metadata": {},
   "source": [
    "---\n",
    "## 2️⃣ 데이터 로드\n",
    "\n",
    "이 셀에서는 chapter.2에서 생성한 청크 데이터를 로드합니다.\n",
    "\n",
    "**주요 내용:**\n",
    "- JSON 파일에서 청크 데이터 읽기\n",
    "- 청크 개수 및 구조 확인\n",
    "- 텍스트 추출\n",
    "\n",
    "**실행 결과:**\n",
    "- 청크 데이터가 성공적으로 로드되고 개수가 출력됩니다.\n"
   ]
  },
  {
   "cell_type": "code",
   "execution_count": 2,
   "id": "3caba0fd",
   "metadata": {},
   "outputs": [
    {
     "name": "stdout",
     "output_type": "stream",
     "text": [
      "Loading chunks from: ../data/chunk/ostep_tok400_ov20.json\n",
      "Loaded 991 chunks\n",
      "\n",
      "Sample chunk structure:\n",
      "  chunk_id: ch_1__0000\n",
      "  chapter_id: ch_1\n",
      "  chapter_title: A Dialogue on the Book\n",
      "  subsection_id: None\n",
      "  subsection_title: None\n",
      "  text: A Dialogue on the Book Professor: Welcome to this book! It’s called Operating Systems in Three Easy ...\n",
      "\n",
      "Converted 991 chunks to JSON strings for embedding\n",
      "\n",
      "Sample embedding text (first 200 chars):\n",
      "  {\"chunk_id\": \"ch_1__0000\", \"chapter_id\": \"ch_1\", \"chapter_title\": \"A Dialogue on the Book\", \"subsection_id\": null, \"subsection_title\": null, \"text\": \"A Dialogue on the Book Professor: Welcome to this ...\n"
     ]
    }
   ],
   "source": [
    "# 청크 데이터 로드\n",
    "print(f\"Loading chunks from: {CHUNK_FILE}\")\n",
    "with open(CHUNK_FILE, 'r', encoding='utf-8') as f:\n",
    "    chunks = json.load(f)\n",
    "\n",
    "print(f\"Loaded {len(chunks)} chunks\")\n",
    "\n",
    "# 청크 구조 확인\n",
    "if chunks:\n",
    "    print(\"\\nSample chunk structure:\")\n",
    "    sample = chunks[0]\n",
    "    for key, value in sample.items():\n",
    "        if key == 'text':\n",
    "            print(f\"  {key}: {value[:100]}...\" if len(str(value)) > 100 else f\"  {key}: {value}\")\n",
    "        else:\n",
    "            print(f\"  {key}: {value}\")\n",
    "\n",
    "# 청크 전체를 JSON 문자열로 변환하여 임베딩\n",
    "# 이렇게 하면 모든 필드(chunk_id, chapter_id, chapter_title, subsection_id, subsection_title, text)가 포함됨\n",
    "def chunk_to_embedding_text(chunk):\n",
    "    \"\"\"청크 전체를 JSON 문자열로 변환하여 임베딩 텍스트 생성\"\"\"\n",
    "    return json.dumps(chunk, ensure_ascii=False)\n",
    "\n",
    "texts = [chunk_to_embedding_text(chunk) for chunk in chunks]\n",
    "print(f\"\\nConverted {len(texts)} chunks to JSON strings for embedding\")\n",
    "\n",
    "# 샘플 출력\n",
    "print(\"\\nSample embedding text (first 200 chars):\")\n",
    "print(f\"  {texts[0][:200]}...\")\n"
   ]
  },
  {
   "cell_type": "markdown",
   "id": "69a407ba",
   "metadata": {},
   "source": [
    "---\n",
    "## 3️⃣ 임베딩 생성\n",
    "\n",
    "이 셀에서는 SentenceTransformer를 사용하여 모든 청크를 임베딩합니다.\n",
    "\n",
    "**주요 내용:**\n",
    "- 991개 청크를 한번에 임베딩 생성\n",
    "- 각 청크는 JSON 문자열로 변환되어 전체 정보가 포함됨\n",
    "- 정규화된 벡터 생성 (코사인 유사도 계산 최적화)\n",
    "- 임베딩 차원 확인\n",
    "\n",
    "**실행 결과:**\n",
    "- 모든 청크의 임베딩이 생성되고 shape가 출력됩니다.\n"
   ]
  },
  {
   "cell_type": "code",
   "execution_count": 3,
   "id": "75c63193",
   "metadata": {},
   "outputs": [
    {
     "name": "stdout",
     "output_type": "stream",
     "text": [
      "Generating embeddings...\n",
      "Processing 991 chunks...\n"
     ]
    },
    {
     "data": {
      "application/vnd.jupyter.widget-view+json": {
       "model_id": "cd925022cb5f4391839dd10c264b55fd",
       "version_major": 2,
       "version_minor": 0
      },
      "text/plain": [
       "Batches:   0%|          | 0/31 [00:00<?, ?it/s]"
      ]
     },
     "metadata": {},
     "output_type": "display_data"
    },
    {
     "name": "stdout",
     "output_type": "stream",
     "text": [
      "\n",
      "Embeddings generated successfully!\n",
      "Embedding shape: (991, 384)\n",
      "Embedding dtype: float32\n",
      "First embedding sample (first 5 values): [-0.1130181   0.00220718 -0.01913215  0.01023912 -0.03593146]\n"
     ]
    }
   ],
   "source": [
    "print(\"Generating embeddings...\")\n",
    "print(f\"Processing {len(texts)} chunks...\")\n",
    "\n",
    "# 임베딩 생성 (정규화된 벡터, float32)\n",
    "embeddings = model.encode(\n",
    "    texts,\n",
    "    convert_to_numpy=True,\n",
    "    normalize_embeddings=True,\n",
    "    show_progress_bar=True\n",
    ")\n",
    "\n",
    "print(f\"\\nEmbeddings generated successfully!\")\n",
    "print(f\"Embedding shape: {embeddings.shape}\")\n",
    "print(f\"Embedding dtype: {embeddings.dtype}\")\n",
    "print(f\"First embedding sample (first 5 values): {embeddings[0][:5]}\")\n"
   ]
  },
  {
   "cell_type": "markdown",
   "id": "fc7d4111",
   "metadata": {},
   "source": [
    "---\n",
    "## 4️⃣ 결과 저장\n",
    "\n",
    "이 셀에서는 생성된 임베딩를 파일로 저장합니다.\n",
    "\n",
    "**주요 내용:**\n",
    "- NumPy 배열(.npy)로 임베딩 저장\n",
    "- FAISS/ChromaDB 호환 형식\n",
    "\n",
    "**실행 결과:**\n",
    "- 두 개의 파일이 생성되고 저장 경로가 출력됩니다.\n"
   ]
  },
  {
   "cell_type": "code",
   "execution_count": 6,
   "id": "2273bd3f",
   "metadata": {},
   "outputs": [
    {
     "name": "stdout",
     "output_type": "stream",
     "text": [
      "Saving embeddings to: ../data/vector/ostep_tok400_ov20_embeddings.npy\n",
      "✓ Embeddings saved: (991, 384)\n",
      "\n",
      "File sizes:\n",
      "  Embeddings: 1.45 MB\n"
     ]
    }
   ],
   "source": [
    "# 출력 파일 경로 설정\n",
    "embeddings_file = Path(OUTPUT_DIR) / \"ostep_tok400_ov20_embeddings.npy\"\n",
    "\n",
    "# 임베딩 저장\n",
    "print(f\"Saving embeddings to: {embeddings_file}\")\n",
    "np.save(embeddings_file, embeddings.astype(np.float32))\n",
    "print(f\"✓ Embeddings saved: {embeddings.shape}\")\n",
    "\n",
    "# 파일 크기 확인\n",
    "emb_size = embeddings_file.stat().st_size / (1024 * 1024)  # MB\n",
    "\n",
    "print(f\"\\nFile sizes:\")\n",
    "print(f\"  Embeddings: {emb_size:.2f} MB\")\n"
   ]
  }
 ],
 "metadata": {
  "kernelspec": {
   "display_name": "rag_env",
   "language": "python",
   "name": "python3"
  },
  "language_info": {
   "codemirror_mode": {
    "name": "ipython",
    "version": 3
   },
   "file_extension": ".py",
   "mimetype": "text/x-python",
   "name": "python",
   "nbconvert_exporter": "python",
   "pygments_lexer": "ipython3",
   "version": "3.11.7"
  }
 },
 "nbformat": 4,
 "nbformat_minor": 5
}
