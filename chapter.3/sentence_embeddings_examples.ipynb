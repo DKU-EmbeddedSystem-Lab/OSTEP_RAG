{
 "cells": [
  {
   "cell_type": "markdown",
   "id": "b4797229",
   "metadata": {},
   "source": [
    "\n",
    "# Chapter 3: 문장 임베딩 실습 (예제, Hugging Face)\n",
    "\n",
    "여러 문장을 임베딩해 유사도를 비교/시각화하며 임베딩의 직관을 익힙니다.\n",
    "\n",
    "## 📚 학습 목표\n",
    "- SentenceTransformer로 문장 임베딩 생성 및 벡터 차원/정규화 이해\n",
    "- 코사인 유사도 행렬/Top-k 이웃/시각화를 통한 군집 구조 파악\n",
    "- 임베딩 모델/하이퍼파라미터 변경이 유사도에 미치는 영향 체감\n",
    "\n",
    "## 📋 실습 구성\n",
    "- 1️⃣ 환경 설정: Colab 드라이브 마운트/패키지 설치\n",
    "- 2️⃣ Imports & Model: 모델 로드 및 디바이스 확인\n",
    "- 3️⃣ 샘플 문장: 도메인 다른 문장 세트 준비\n",
    "- 4️⃣ 임베딩 생성: 정규화 포함 임베딩 계산\n",
    "- 5️⃣ 유사도 행렬: 코사인 유사도 표 출력\n",
    "- 6️⃣ Top-k 이웃/시각화: 최근접 이웃, 히트맵/TSNE 플롯\n",
    "\n",
    "> ⚠️ 첫 실행 시 모델 다운로드 시간(네트워크/디스크)에 유의하세요."
   ]
  },
  {
   "cell_type": "markdown",
   "id": "c4bc5fd7",
   "metadata": {},
   "source": [
    "---\n",
    "## 1️⃣ Google Colab 환경 설정\n",
    "\n",
    "이 노트북은 **Google Colab에서 GPU를 사용**하여 실행하도록 설계되었습니다.\n",
    "\n",
    "### 실행 전 준비\n",
    "1. **런타임 유형**: `런타임` → `런타임 유형 변경` → `GPU` 선택\n",
    "2. **아래 셀 실행**: Google Drive 마운트 및 패키지 설치\n"
   ]
  },
  {
   "cell_type": "code",
   "execution_count": null,
   "id": "c6edbc9d",
   "metadata": {},
   "outputs": [],
   "source": [
    "# ========================================\n",
    "# Google Colab 환경 설정\n",
    "# ========================================\n",
    "from google.colab import drive\n",
    "import os\n",
    "\n",
    "# Google Drive 마운트\n",
    "drive.mount('/content/drive')\n",
    "\n",
    "# 필요 패키지 설치\n",
    "!pip -q install -U sentence-transformers torch pandas numpy matplotlib\n",
    "\n",
    "print(\"✅ Colab 환경 설정 완료\")\n"
   ]
  },
  {
   "cell_type": "markdown",
   "id": "80cd6b93",
   "metadata": {},
   "source": [
    "---\n",
    "## 2️⃣ Imports & Model"
   ]
  },
  {
   "cell_type": "code",
   "execution_count": null,
   "id": "73d6e165",
   "metadata": {},
   "outputs": [],
   "source": [
    "import warnings\n",
    "import torch\n",
    "import numpy as np\n",
    "import pandas as pd\n",
    "import matplotlib.pyplot as plt\n",
    "from sentence_transformers import SentenceTransformer\n",
    "\n",
    "# 경고 억제\n",
    "warnings.filterwarnings(\"ignore\", category=UserWarning)\n",
    "warnings.filterwarnings(\"ignore\", category=FutureWarning)\n",
    "\n",
    "# GPU 자동 감지\n",
    "device = \"cuda\" if torch.cuda.is_available() else \"cpu\"\n",
    "print(f\"🔧 Using device: {device}\")\n",
    "if device == \"cuda\":\n",
    "    print(f\"   GPU: {torch.cuda.get_device_name(0)}\")\n",
    "\n",
    "# 모델 로드\n",
    "MODEL_NAME = \"sentence-transformers/all-MiniLM-L6-v2\"\n",
    "print(f\"\\nModel: {MODEL_NAME}\")\n",
    "model = SentenceTransformer(MODEL_NAME, device=device)\n",
    "print(\"✅ Model loaded successfully!\")\n"
   ]
  },
  {
   "cell_type": "markdown",
   "id": "4db4b8ef",
   "metadata": {},
   "source": [
    "---\n",
    "## 3️⃣ Sample Sentences"
   ]
  },
  {
   "cell_type": "code",
   "execution_count": null,
   "id": "b8716389",
   "metadata": {},
   "outputs": [],
   "source": [
    "\n",
    "sentences = [\n",
    "    # 쌍 1: 요리/음식 관련\n",
    "    \"The chef prepared a delicious pasta dish with fresh ingredients.\",\n",
    "    \"A skilled cook made an amazing Italian meal using quality products.\",\n",
    "    \n",
    "    # 쌍 2: 자연/환경 관련  \n",
    "    \"The forest was filled with tall trees and singing birds.\",\n",
    "    \"Woodland areas contained massive oaks and chirping wildlife.\",\n",
    "    \n",
    "    # 쌍 3: 기술/인공지능 관련\n",
    "    \"Machine learning algorithms can predict customer behavior patterns.\",\n",
    "    \"AI models are capable of forecasting user preferences accurately.\",\n",
    "    \n",
    "    # 쌍 4: 운동/건강 관련\n",
    "    \"Regular exercise helps maintain physical and mental well-being.\",\n",
    "    \"Consistent physical activity supports both body and mind health.\",\n",
    "    \n",
    "    # 쌍 5: 교육/학습 관련\n",
    "    \"Students learn more effectively through interactive teaching methods.\",\n",
    "    \"Interactive educational approaches enhance student learning outcomes.\",\n",
    "]\n",
    "print(\"Total sentences:\", len(sentences))\n",
    "for i, s in enumerate(sentences):\n",
    "    print(f\"S{i}: {s}\")\n"
   ]
  },
  {
   "cell_type": "markdown",
   "id": "91b7cfe3",
   "metadata": {},
   "source": [
    "---\n",
    "## 4️⃣ Embed Sentences"
   ]
  },
  {
   "cell_type": "code",
   "execution_count": null,
   "id": "125ba4c6",
   "metadata": {},
   "outputs": [],
   "source": [
    "\n",
    "embeddings = model.encode(\n",
    "    sentences, \n",
    "    convert_to_tensor=True, \n",
    "    normalize_embeddings=True\n",
    ")\n",
    "print(\"Embedding shape:\", embeddings.shape, \"(dim =\", embeddings.shape[-1], \")\")\n"
   ]
  },
  {
   "cell_type": "markdown",
   "id": "4d54a04f",
   "metadata": {},
   "source": [
    "---\n",
    "## 5️⃣ Cosine Similarity Matrix"
   ]
  },
  {
   "cell_type": "code",
   "execution_count": null,
   "id": "a82e3e88",
   "metadata": {},
   "outputs": [],
   "source": [
    "\n",
    "sim_matrix = (embeddings @ embeddings.T).cpu().numpy()\n",
    "import pandas as pd\n",
    "df_sim = pd.DataFrame(sim_matrix, index=[f\"S{i}\" for i in range(len(sentences))],\n",
    "                      columns=[f\"S{i}\" for i in range(len(sentences))])\n",
    "pd.set_option(\"display.precision\", 3)\n",
    "print(df_sim)\n"
   ]
  },
  {
   "cell_type": "markdown",
   "id": "68e972d6",
   "metadata": {},
   "source": [
    "---\n",
    "## 6️⃣ Top-k Nearest Neighbors"
   ]
  },
  {
   "cell_type": "code",
   "execution_count": null,
   "id": "63e7721a",
   "metadata": {},
   "outputs": [],
   "source": [
    "\n",
    "import numpy as np\n",
    "\n",
    "def topk_neighbors(sim, k=3):\n",
    "    n = sim.shape[0]\n",
    "    for i in range(n):\n",
    "        order = np.argsort(-sim[i])\n",
    "        order = [j for j in order if j != i][:k]\n",
    "        print(f\"\\n[S{i}] {sentences[i]}\")\n",
    "        for rank, j in enumerate(order, start=1):\n",
    "            print(f\"  #{rank} (S{j}, {sim[i,j]:.3f}) -> {sentences[j]}\")\n",
    "\n",
    "topk_neighbors(sim_matrix, k=3)\n"
   ]
  },
  {
   "cell_type": "markdown",
   "id": "fd9b3986",
   "metadata": {},
   "source": [
    "## 6) Heatmap Visualization"
   ]
  },
  {
   "cell_type": "code",
   "execution_count": null,
   "id": "ec61df53",
   "metadata": {},
   "outputs": [],
   "source": [
    "\n",
    "import matplotlib.pyplot as plt\n",
    "\n",
    "# 대각선 위쪽을 마스킹하여 하삼각 행렬만 표시\n",
    "masked_matrix = sim_matrix.copy()\n",
    "for i in range(len(sentences)):\n",
    "    for j in range(i+1, len(sentences)):\n",
    "        masked_matrix[i, j] = np.nan\n",
    "\n",
    "plt.figure(figsize=(8,6))\n",
    "plt.imshow(masked_matrix, interpolation=\"nearest\")\n",
    "plt.colorbar()\n",
    "plt.title(f\"Sentence Cosine Similarity ({MODEL_NAME})\")\n",
    "plt.xticks(range(len(sentences)), [f\"S{i}\" for i in range(len(sentences))])\n",
    "plt.yticks(range(len(sentences)), [f\"S{i}\" for i in range(len(sentences))])\n",
    "plt.tight_layout()\n",
    "plt.show()\n"
   ]
  },
  {
   "cell_type": "markdown",
   "id": "8c67be2a",
   "metadata": {},
   "source": [
    "## 7) t-SNE 2D Scatter Plot\n"
   ]
  },
  {
   "cell_type": "code",
   "execution_count": null,
   "id": "ef69ede4",
   "metadata": {},
   "outputs": [],
   "source": [
    "from sklearn.manifold import TSNE\n",
    "import networkx as nx\n",
    "\n",
    "# Define colors for each pair (5 pairs, 5 colors)\n",
    "colors = plt.cm.tab10(np.linspace(0, 1, 5))\n",
    "sentence_colors = [colors[i//2] for i in range(10)]\n",
    "\n",
    "THRESHOLD = 0.5\n",
    "\n",
    "# Create graph\n",
    "G = nx.Graph()\n",
    "\n",
    "# Add nodes (all sentences)\n",
    "for i in range(len(sentences)):\n",
    "    G.add_node(f\"S{i}\")\n",
    "\n",
    "edges_added = []\n",
    "for i in range(len(sentences)):\n",
    "    for j in range(i+1, len(sentences)):\n",
    "        if sim_matrix[i, j] >= THRESHOLD:\n",
    "            G.add_edge(f\"S{i}\", f\"S{j}\", weight=sim_matrix[i, j])\n",
    "            edges_added.append((i, j, sim_matrix[i, j]))\n",
    "            \n",
    "# Perform t-SNE (use perplexity appropriate for small dataset)\n",
    "perplexity = min(5, len(sentences) - 1)  # Max perplexity is n_samples - 1\n",
    "tsne = TSNE(n_components=2, perplexity=perplexity, random_state=42, \n",
    "            init='pca', learning_rate='auto')\n",
    "embeddings_tsne = tsne.fit_transform(embeddings.cpu().numpy())\n",
    "\n",
    "# Create scatter plot\n",
    "plt.figure(figsize=(6, 6))\n",
    "plt.scatter(embeddings_tsne[:, 0], embeddings_tsne[:, 1], \n",
    "           c=sentence_colors, s=200, alpha=0.6, edgecolors='black', linewidth=1.5)\n",
    "\n",
    "# Add labels\n",
    "for i, (x, y) in enumerate(embeddings_tsne):\n",
    "    plt.annotate(f'S{i}', (x, y), xytext=(5, 5), textcoords='offset points',\n",
    "                fontsize=10, fontweight='bold')\n",
    "\n",
    "# Draw connections for similar pairs (threshold >= 0.5)\n",
    "for i, j, sim in edges_added:\n",
    "    x1, y1 = embeddings_tsne[i]\n",
    "    x2, y2 = embeddings_tsne[j]\n",
    "    plt.plot([x1, x2], [y1, y2], 'gray', alpha=0.3, linestyle='--', linewidth=2)\n",
    "\n",
    "plt.xlabel('t-SNE Dimension 1')\n",
    "plt.ylabel('t-SNE Dimension 2')\n",
    "plt.title(f'Sentence Embeddings in 2D\\nConnected pairs: similarity >= 0.5')\n",
    "plt.grid(True, alpha=0.3)\n",
    "plt.tight_layout()\n",
    "plt.show()\n",
    "\n",
    "print(f\"\\nNote: t-SNE with perplexity={perplexity} optimized for small dataset\")\n",
    "print(\"t-SNE is non-linear and good at preserving local neighborhood structure\")\n"
   ]
  }
 ],
 "metadata": {
  "kernelspec": {
   "display_name": "rag_env",
   "language": "python",
   "name": "python3"
  },
  "language_info": {
   "codemirror_mode": {
    "name": "ipython",
    "version": 3
   },
   "file_extension": ".py",
   "mimetype": "text/x-python",
   "name": "python",
   "nbconvert_exporter": "python",
   "pygments_lexer": "ipython3",
   "version": "3.11.7"
  }
 },
 "nbformat": 4,
 "nbformat_minor": 5
}
